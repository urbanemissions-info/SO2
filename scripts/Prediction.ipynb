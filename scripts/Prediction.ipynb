{
 "cells": [
  {
   "cell_type": "code",
   "execution_count": 1,
   "id": "5b6d2d63",
   "metadata": {},
   "outputs": [],
   "source": [
    "import pandas as pd\n",
    "import numpy as np\n",
    "import matplotlib.pyplot as plt\n",
    "import os"
   ]
  },
  {
   "cell_type": "code",
   "execution_count": 2,
   "id": "0371913b",
   "metadata": {},
   "outputs": [],
   "source": [
    "# Define the order of months\n",
    "month_order = ['JAN', 'FEB', 'MAR', 'APR', 'MAY', 'JUN', 'JUL', 'AUG', 'SEP', 'OCT', 'NOV', 'DEC']"
   ]
  },
  {
   "cell_type": "code",
   "execution_count": null,
   "id": "d2a89592",
   "metadata": {},
   "outputs": [],
   "source": [
    "fso4_df = pd.read_csv('/home/krishna/UEInfo/SO2/data/so2_fso4.csv')\n",
    "fso4_df['month'] = pd.Categorical(fso4_df['month'], categories=month_order, ordered=True)"
   ]
  },
  {
   "cell_type": "code",
   "execution_count": null,
   "id": "c5d228c6",
   "metadata": {},
   "outputs": [],
   "source": [
    "fso4_df[['rh','so2','fso4']].describe()"
   ]
  },
  {
   "cell_type": "code",
   "execution_count": null,
   "id": "3526effe",
   "metadata": {},
   "outputs": [],
   "source": [
    "fso4_df[['rh','so2','fso4']].corr()"
   ]
  },
  {
   "cell_type": "markdown",
   "id": "f6da6992",
   "metadata": {},
   "source": [
    "# Insights (Entire data)\n",
    "1. fso4 is not at all correlated with rh\n",
    "2. fso4 has good correlation with so2. "
   ]
  },
  {
   "cell_type": "code",
   "execution_count": null,
   "id": "6f14dc68",
   "metadata": {},
   "outputs": [],
   "source": [
    "fso4_df[fso4_df.month=='JAN'][['rh','so2','fso4']].corr()"
   ]
  },
  {
   "cell_type": "code",
   "execution_count": null,
   "id": "2dce714a",
   "metadata": {},
   "outputs": [],
   "source": [
    "fso4_df[fso4_df.month=='MAY'][['rh','so2','fso4']].corr()"
   ]
  },
  {
   "cell_type": "code",
   "execution_count": null,
   "id": "7a1823ed",
   "metadata": {},
   "outputs": [],
   "source": [
    "fso4_df[(fso4_df.ix==91)&(fso4_df.iy==69)][['rh','log_so2','fso4']].corr()"
   ]
  },
  {
   "cell_type": "markdown",
   "id": "29fdbefb",
   "metadata": {},
   "source": [
    "# Insights (Monthly data)\n",
    "1. fso4 is having some correlation with rh in a few months\n",
    "2. fso4 has good correlation with so2"
   ]
  },
  {
   "cell_type": "code",
   "execution_count": null,
   "id": "cb6f21f9",
   "metadata": {},
   "outputs": [],
   "source": [
    "fso4_monthly_means = fso4_df.groupby('month')[['rh','so2','fso4']].mean()\n",
    "fso4_monthly_means"
   ]
  },
  {
   "cell_type": "code",
   "execution_count": null,
   "id": "d02c4cf7",
   "metadata": {},
   "outputs": [],
   "source": [
    "fso4_df.iy.astype('str')"
   ]
  },
  {
   "cell_type": "code",
   "execution_count": null,
   "id": "5da982da",
   "metadata": {},
   "outputs": [],
   "source": [
    "plt.figure()\n",
    "plt.plot(fso4_monthly_means.index,fso4_monthly_means.rh, marker='o', label='RH')\n",
    "plt.plot(fso4_monthly_means.index,fso4_monthly_means.fso4*100, marker='o', label='fso4*100')\n",
    "plt.plot(fso4_monthly_means.index,fso4_monthly_means.so2, marker='o', label='so2')\n",
    "\n",
    "plt.xlabel('Month')\n",
    "plt.ylabel('Values')\n",
    "plt.title('Monthly Averages of fso4, so2, and rh')\n",
    "plt.xticks(rotation=45)\n",
    "plt.legend()\n",
    "plt.grid(True)\n",
    "plt.show()"
   ]
  },
  {
   "cell_type": "code",
   "execution_count": null,
   "id": "17050a5b",
   "metadata": {},
   "outputs": [],
   "source": [
    "# Create a histogram\n",
    "plt.hist(fso4_df['fso4'], bins=10, edgecolor='black')\n",
    "plt.xlabel('Variable')\n",
    "plt.ylabel('Frequency')\n",
    "plt.title('Histogram of fso4')\n",
    "plt.grid(True)\n",
    "plt.show()"
   ]
  },
  {
   "cell_type": "code",
   "execution_count": null,
   "id": "2847c65f",
   "metadata": {},
   "outputs": [],
   "source": [
    "# Create a histogram\n",
    "plt.hist(fso4_df['so2'], bins=10, edgecolor='black')\n",
    "plt.xlabel('Variable')\n",
    "plt.ylabel('Frequency')\n",
    "plt.title('Histogram of so2')\n",
    "plt.grid(True)\n",
    "plt.show()"
   ]
  },
  {
   "cell_type": "code",
   "execution_count": null,
   "id": "d572b93d",
   "metadata": {},
   "outputs": [],
   "source": [
    "# Create a histogram\n",
    "plt.hist(fso4_df['rh'], bins=10, edgecolor='black')\n",
    "plt.xlabel('Variable')\n",
    "plt.ylabel('Frequency')\n",
    "plt.title('Histogram of rh')\n",
    "plt.grid(True)\n",
    "plt.show()"
   ]
  },
  {
   "cell_type": "markdown",
   "id": "36707f80",
   "metadata": {},
   "source": [
    "# Outliers"
   ]
  },
  {
   "cell_type": "code",
   "execution_count": null,
   "id": "d4a5d3bc",
   "metadata": {},
   "outputs": [],
   "source": [
    "# Create a box plot\n",
    "plt.boxplot( np.log(fso4_df['so2']))\n",
    "\n",
    "plt.ylabel('so2')\n",
    "plt.title('Box Plot for Outlier Detection')\n",
    "plt.show()\n"
   ]
  },
  {
   "cell_type": "code",
   "execution_count": null,
   "id": "0b691409",
   "metadata": {},
   "outputs": [],
   "source": [
    "fso4_df['log_so2'] = np.log(fso4_df['so2']+0.0001)"
   ]
  },
  {
   "cell_type": "code",
   "execution_count": null,
   "id": "22d8e8c9",
   "metadata": {},
   "outputs": [],
   "source": [
    "fso4_df[['rh','log_so2','fso4']].corr()"
   ]
  },
  {
   "cell_type": "code",
   "execution_count": null,
   "id": "4902b758",
   "metadata": {},
   "outputs": [],
   "source": [
    "fso4_df[fso4_df.month=='JAN'][['rh','log_so2','fso4']].corr()"
   ]
  },
  {
   "cell_type": "code",
   "execution_count": null,
   "id": "4809354b",
   "metadata": {},
   "outputs": [],
   "source": [
    "upper_limit = fso4_df.log_so2.mean() + 3*fso4_df.log_so2.std()\n",
    "lower_limit = fso4_df.log_so2.mean() - 3*fso4_df.log_so2.std()"
   ]
  },
  {
   "cell_type": "code",
   "execution_count": null,
   "id": "44c68f7c",
   "metadata": {},
   "outputs": [],
   "source": [
    "fso4_df_removedoutliers = fso4_df[(fso4_df.log_so2<upper_limit)&(fso4_df.log_so2>lower_limit)]"
   ]
  },
  {
   "cell_type": "code",
   "execution_count": null,
   "id": "96662e15",
   "metadata": {},
   "outputs": [],
   "source": [
    "fso4_df_removedoutliers[['rh','log_so2','fso4']].corr()"
   ]
  },
  {
   "cell_type": "code",
   "execution_count": null,
   "id": "e16aa111",
   "metadata": {},
   "outputs": [],
   "source": [
    "fso4_df"
   ]
  },
  {
   "cell_type": "code",
   "execution_count": null,
   "id": "edc46dfe",
   "metadata": {},
   "outputs": [],
   "source": []
  },
  {
   "cell_type": "code",
   "execution_count": null,
   "id": "d409d041",
   "metadata": {},
   "outputs": [],
   "source": [
    "fso4_df['rh_nextmonth'] = fso4_df['rh'].shift(1)"
   ]
  },
  {
   "cell_type": "markdown",
   "id": "03853ab3",
   "metadata": {},
   "source": [
    "# Machine Learning"
   ]
  },
  {
   "cell_type": "code",
   "execution_count": 3,
   "id": "20e1242a",
   "metadata": {},
   "outputs": [],
   "source": [
    "from sklearn.model_selection import train_test_split, cross_val_score\n",
    "from sklearn.preprocessing import StandardScaler\n",
    "from sklearn.linear_model import LinearRegression\n",
    "from sklearn.ensemble import RandomForestRegressor\n",
    "from sklearn.metrics import r2_score, mean_squared_error\n",
    "\n",
    "from math import sqrt"
   ]
  },
  {
   "cell_type": "code",
   "execution_count": 4,
   "id": "ce3d1bc9",
   "metadata": {},
   "outputs": [],
   "source": [
    "fso4_df = pd.read_csv('/home/krishna/UEInfo/SO2/data/so2_fso4.csv')\n",
    "fso4_df['month'] = pd.Categorical(fso4_df['month'], categories=month_order, ordered=True)\n",
    "\n",
    "fso4_df['ix'] = fso4_df.ix.astype('str')\n",
    "fso4_df['iy'] = fso4_df.iy.astype('str')\n",
    "fso4_df['loc'] = fso4_df['ix']+fso4_df['iy']\n",
    "\n",
    "# There are outliers in so2 column\n",
    "fso4_df['log_so2'] = np.log(fso4_df['so2']+0.0001)\n",
    "#Remove remaining outliers\n",
    "upper_limit = fso4_df.log_so2.mean() + 3*fso4_df.log_so2.std()\n",
    "lower_limit = fso4_df.log_so2.mean() - 3*fso4_df.log_so2.std()\n",
    "fso4_df_removedoutliers = fso4_df[(fso4_df.log_so2<upper_limit)&(fso4_df.log_so2>lower_limit)]"
   ]
  },
  {
   "cell_type": "code",
   "execution_count": 5,
   "id": "a2604398",
   "metadata": {},
   "outputs": [],
   "source": [
    "X_train = fso4_df[['log_so2', 'time_category','rh','month','loc']]\n",
    "X_train = pd.get_dummies(X_train, columns = ['month','loc'\n",
    "                                             ,'time_category'],\n",
    "                drop_first=True)\n",
    "\n",
    "y_train = fso4_df.fso4"
   ]
  },
  {
   "cell_type": "code",
   "execution_count": 6,
   "id": "74067f6b",
   "metadata": {},
   "outputs": [],
   "source": [
    "# TEST\n",
    "fso4_2020_df = pd.read_csv('/home/krishna/UEInfo/SO2/data/so2_fso4_2020.csv')\n",
    "fso4_2020_df['month'] = pd.Categorical(fso4_2020_df['month'], categories=month_order, ordered=True)\n",
    "\n",
    "fso4_2020_df['ix'] = fso4_2020_df.ix.astype('str')\n",
    "fso4_2020_df['iy'] = fso4_2020_df.iy.astype('str')\n",
    "fso4_2020_df['loc'] = fso4_2020_df['ix']+fso4_2020_df['iy']\n",
    "\n",
    "# There are outliers in so2 column\n",
    "fso4_2020_df['log_so2'] = np.log(fso4_2020_df['so2']+0.0001)\n",
    "\n",
    "X_test = fso4_2020_df[['log_so2', 'time_category','rh','month','loc']]\n",
    "X_test = pd.get_dummies(X_test, columns = ['month','loc','time_category'],\n",
    "                drop_first=True)\n",
    "\n",
    "y_test = fso4_2020_df.fso4"
   ]
  },
  {
   "cell_type": "code",
   "execution_count": null,
   "id": "2c990914",
   "metadata": {},
   "outputs": [],
   "source": [
    "model = RandomForestRegressor(n_estimators=100, random_state=42)\n",
    "model.fit(X_train,y_train)"
   ]
  },
  {
   "cell_type": "code",
   "execution_count": null,
   "id": "fbbb0ac7",
   "metadata": {},
   "outputs": [],
   "source": [
    "# mse = cross_val_score(model, X_train, y_train, scoring='neg_mean_squared_error', cv=10)\n",
    "# print('MSE:', mse)"
   ]
  },
  {
   "cell_type": "code",
   "execution_count": null,
   "id": "3b0685fd",
   "metadata": {},
   "outputs": [],
   "source": []
  },
  {
   "cell_type": "code",
   "execution_count": null,
   "id": "147bfda9",
   "metadata": {},
   "outputs": [],
   "source": [
    "y_pred = model.predict(X_test)"
   ]
  },
  {
   "cell_type": "code",
   "execution_count": null,
   "id": "c8e269cd",
   "metadata": {},
   "outputs": [],
   "source": [
    "rmse = sqrt(mean_squared_error(y_pred, y_test))\n",
    "print('RMSE: ',rmse)"
   ]
  },
  {
   "cell_type": "code",
   "execution_count": null,
   "id": "594dbc63",
   "metadata": {},
   "outputs": [],
   "source": [
    "r2 = r2_score(y_pred,y_test)\n",
    "print('R2: ',r2)"
   ]
  },
  {
   "cell_type": "code",
   "execution_count": null,
   "id": "e52e3c5b",
   "metadata": {},
   "outputs": [],
   "source": [
    "y_pred.shape"
   ]
  },
  {
   "cell_type": "code",
   "execution_count": null,
   "id": "352cd2b9",
   "metadata": {},
   "outputs": [],
   "source": [
    "fso4_2020_df['fso4_predicted'] = y_pred"
   ]
  },
  {
   "cell_type": "code",
   "execution_count": 14,
   "id": "26ff159d",
   "metadata": {},
   "outputs": [],
   "source": [
    "fso4_2020_df.to_csv('/home/krishna/UEInfo/SO2/data/so2_fso4_2020_predicted.csv')"
   ]
  },
  {
   "cell_type": "code",
   "execution_count": null,
   "id": "e57e28de",
   "metadata": {},
   "outputs": [],
   "source": []
  },
  {
   "cell_type": "code",
   "execution_count": 10,
   "id": "0ebf76f1",
   "metadata": {},
   "outputs": [
    {
     "data": {
      "text/plain": [
       "LinearRegression()"
      ]
     },
     "execution_count": 10,
     "metadata": {},
     "output_type": "execute_result"
    }
   ],
   "source": [
    "regression = LinearRegression()\n",
    "regression.fit(X_train,y_train)"
   ]
  },
  {
   "cell_type": "code",
   "execution_count": 11,
   "id": "55f803db",
   "metadata": {},
   "outputs": [],
   "source": [
    "# Prediction\n",
    "y_pred = regression.predict(X_test)\n"
   ]
  },
  {
   "cell_type": "code",
   "execution_count": 13,
   "id": "6b79562b",
   "metadata": {},
   "outputs": [],
   "source": [
    "fso4_2020_df['fso4_predicted_lr'] = y_pred"
   ]
  },
  {
   "cell_type": "code",
   "execution_count": 16,
   "id": "07f3de56",
   "metadata": {},
   "outputs": [],
   "source": [
    "#Get the intercept and coefficients\n",
    "intercept = regression.intercept_\n",
    "coefficients = regression.coef_\n",
    "\n",
    "coef_df = pd.DataFrame(zip(X_train.columns, coefficients))\n",
    "coef_df.columns = ['var', 'coef']"
   ]
  },
  {
   "cell_type": "code",
   "execution_count": 17,
   "id": "4019653d",
   "metadata": {},
   "outputs": [
    {
     "data": {
      "text/html": [
       "<div>\n",
       "<style scoped>\n",
       "    .dataframe tbody tr th:only-of-type {\n",
       "        vertical-align: middle;\n",
       "    }\n",
       "\n",
       "    .dataframe tbody tr th {\n",
       "        vertical-align: top;\n",
       "    }\n",
       "\n",
       "    .dataframe thead th {\n",
       "        text-align: right;\n",
       "    }\n",
       "</style>\n",
       "<table border=\"1\" class=\"dataframe\">\n",
       "  <thead>\n",
       "    <tr style=\"text-align: right;\">\n",
       "      <th></th>\n",
       "      <th>var</th>\n",
       "      <th>coef</th>\n",
       "    </tr>\n",
       "  </thead>\n",
       "  <tbody>\n",
       "    <tr>\n",
       "      <th>0</th>\n",
       "      <td>log_so2</td>\n",
       "      <td>-0.103915</td>\n",
       "    </tr>\n",
       "    <tr>\n",
       "      <th>1</th>\n",
       "      <td>rh</td>\n",
       "      <td>-0.004606</td>\n",
       "    </tr>\n",
       "    <tr>\n",
       "      <th>2</th>\n",
       "      <td>month_FEB</td>\n",
       "      <td>0.006795</td>\n",
       "    </tr>\n",
       "    <tr>\n",
       "      <th>3</th>\n",
       "      <td>month_MAR</td>\n",
       "      <td>-0.019861</td>\n",
       "    </tr>\n",
       "    <tr>\n",
       "      <th>4</th>\n",
       "      <td>month_APR</td>\n",
       "      <td>-0.017905</td>\n",
       "    </tr>\n",
       "    <tr>\n",
       "      <th>...</th>\n",
       "      <td>...</td>\n",
       "      <td>...</td>\n",
       "    </tr>\n",
       "    <tr>\n",
       "      <th>1857</th>\n",
       "      <td>loc_9996</td>\n",
       "      <td>0.012607</td>\n",
       "    </tr>\n",
       "    <tr>\n",
       "      <th>1858</th>\n",
       "      <td>loc_9997</td>\n",
       "      <td>0.016598</td>\n",
       "    </tr>\n",
       "    <tr>\n",
       "      <th>1859</th>\n",
       "      <td>loc_9998</td>\n",
       "      <td>0.045911</td>\n",
       "    </tr>\n",
       "    <tr>\n",
       "      <th>1860</th>\n",
       "      <td>loc_9999</td>\n",
       "      <td>0.064938</td>\n",
       "    </tr>\n",
       "    <tr>\n",
       "      <th>1861</th>\n",
       "      <td>time_category_nighttime</td>\n",
       "      <td>-0.042699</td>\n",
       "    </tr>\n",
       "  </tbody>\n",
       "</table>\n",
       "<p>1862 rows × 2 columns</p>\n",
       "</div>"
      ],
      "text/plain": [
       "                          var      coef\n",
       "0                     log_so2 -0.103915\n",
       "1                          rh -0.004606\n",
       "2                   month_FEB  0.006795\n",
       "3                   month_MAR -0.019861\n",
       "4                   month_APR -0.017905\n",
       "...                       ...       ...\n",
       "1857                 loc_9996  0.012607\n",
       "1858                 loc_9997  0.016598\n",
       "1859                 loc_9998  0.045911\n",
       "1860                 loc_9999  0.064938\n",
       "1861  time_category_nighttime -0.042699\n",
       "\n",
       "[1862 rows x 2 columns]"
      ]
     },
     "execution_count": 17,
     "metadata": {},
     "output_type": "execute_result"
    }
   ],
   "source": [
    "coef_df"
   ]
  },
  {
   "cell_type": "code",
   "execution_count": 18,
   "id": "36035146",
   "metadata": {},
   "outputs": [
    {
     "data": {
      "text/plain": [
       "0.9998408466480354"
      ]
     },
     "execution_count": 18,
     "metadata": {},
     "output_type": "execute_result"
    }
   ],
   "source": [
    "intercept"
   ]
  },
  {
   "cell_type": "code",
   "execution_count": null,
   "id": "c9306293",
   "metadata": {},
   "outputs": [],
   "source": []
  }
 ],
 "metadata": {
  "kernelspec": {
   "display_name": "Python 3 (ipykernel)",
   "language": "python",
   "name": "python3"
  },
  "language_info": {
   "codemirror_mode": {
    "name": "ipython",
    "version": 3
   },
   "file_extension": ".py",
   "mimetype": "text/x-python",
   "name": "python",
   "nbconvert_exporter": "python",
   "pygments_lexer": "ipython3",
   "version": "3.9.13"
  }
 },
 "nbformat": 4,
 "nbformat_minor": 5
}
